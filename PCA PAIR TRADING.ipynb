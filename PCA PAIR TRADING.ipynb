{
 "cells": [
  {
   "cell_type": "markdown",
   "id": "c8aaaaaa",
   "metadata": {},
   "source": [
    "Building a PCA manually\n",
    "Conduct a pairs-trading backtest using PCA\n",
    "Simulation of multiple cointegrated assets\n",
    "Sector statistical arbitrage using PCA"
   ]
  },
  {
   "cell_type": "code",
   "execution_count": 1,
   "id": "8483c2e8",
   "metadata": {},
   "outputs": [],
   "source": [
    "import numpy as np\n",
    "import matplotlib.pyplot as plt\n",
    "from scipy import stats as stats\n",
    "from sklearn.linear_model import LinearRegression\n",
    "from sklearn.decomposition import PCA\n",
    "import scipy\n",
    "import statsmodels.api as sm\n",
    "import pandas as pd\n",
    "from statsmodels.tsa.stattools import coint\n",
    "import matplotlib\n",
    "from itertools import groupby, count\n",
    "import pickle\n",
    "%matplotlib inline"
   ]
  },
  {
   "cell_type": "markdown",
   "id": "a6b14650",
   "metadata": {},
   "source": [
    "Unsupervised machine learning.\n",
    "\"Principal components\" are \"modes\" of a system, similar to vibrational overtones of a guitar string.\n",
    "They are eigenvectors of the covariance matrix.\n",
    "Number of eigenvectors equals the number of features.\n",
    "\"Dimensionality reduction\": reducing the number of eigenvectors.\n",
    "Eigenvectors are \"orthogonal\" - uncorrelated."
   ]
  },
  {
   "cell_type": "code",
   "execution_count": 2,
   "id": "f8bc744e",
   "metadata": {},
   "outputs": [
    {
     "data": {
      "text/plain": [
       "[<matplotlib.lines.Line2D at 0x110ca6a0>]"
      ]
     },
     "execution_count": 2,
     "metadata": {},
     "output_type": "execute_result"
    },
    {
     "data": {
      "image/png": "[encoded data removed]",
      "text/plain": [
       "<Figure size 432x288 with 1 Axes>"
      ]
     },
     "metadata": {
      "needs_background": "light"
     },
     "output_type": "display_data"
    }
   ],
   "source": [
    "# two correlated time series:\n",
    "\n",
    "# Create a random seed for consistency\n",
    "np.random.seed(20)\n",
    "\n",
    "# Produce a series as the cumulative sum of normally distributed random numbers.\n",
    "x = np.cumsum(np.random.randn(200)) + 100\n",
    "\n",
    "# Produce a second series with the same behaviour but higher standard deviation.\n",
    "y = x*2 + np.random.randn(200) - 100\n",
    "\n",
    "# Generate an array to be used in our PCA calculation.\n",
    "# Note that we have to de-mean our values first.\n",
    "R = np.array([x-np.mean(x),y-np.mean(y)])\n",
    "\n",
    "# Plot x and y\n",
    "plt.plot(x)\n",
    "plt.plot(y)\n"
   ]
  },
  {
   "cell_type": "code",
   "execution_count": 3,
   "id": "101d2f3a",
   "metadata": {},
   "outputs": [
    {
     "name": "stdout",
     "output_type": "stream",
     "text": [
      "Cov Matrix: [[17.01547369 33.69556579]\n",
      " [33.69556579 67.62804956]]\n",
      "Eigenvalues:  [ 0.18152713 84.46199612]\n",
      "Eigenvectors:  [[-0.89457408 -0.4469197 ]\n",
      " [ 0.4469197  -0.89457408]]\n"
     ]
    }
   ],
   "source": [
    "\n",
    "# Calculate the covariance matrix\n",
    "S = np.cov(R)\n",
    "print('Cov Matrix:', S)\n",
    "\n",
    "# Calculate the eigenvalues and eigenvectors\n",
    "EIG = np.linalg.eig(S)\n",
    "print('Eigenvalues: ',EIG[0])\n",
    "print('Eigenvectors: ',EIG[1])"
   ]
  },
  {
   "cell_type": "code",
   "execution_count": 4,
   "id": "d289563d",
   "metadata": {},
   "outputs": [],
   "source": [
    "# Extract the eigenvectors from EIG\n",
    "EV = EIG[1]\n",
    "\n",
    "# Create x-values for plotting eigenvectors\n",
    "xx = np.linspace(min(R[0,:]),max(R[0,:]),200)\n",
    "\n",
    "# Create y-values for plotting eigenvectors\n",
    "\n",
    "yy1 = (EV[1][0]/EV[0][0])*xx\n",
    "yy2 = (EV[1][1]/EV[0][1])*xx"
   ]
  },
  {
   "cell_type": "code",
   "execution_count": 5,
   "id": "17196c07",
   "metadata": {},
   "outputs": [
    {
     "name": "stdout",
     "output_type": "stream",
     "text": [
      "Most significant factor:  1\n"
     ]
    }
   ],
   "source": [
    "#The most significant eigenvector is the one with the highest eigenvalue. Here we extract its row number.\n",
    "most_significant_factor = np.argmax(EIG[0])\n",
    "print('Most significant factor: ',most_significant_factor)"
   ]
  },
  {
   "cell_type": "code",
   "execution_count": 6,
   "id": "44f4f6ed",
   "metadata": {},
   "outputs": [],
   "source": [
    "#Now we plot our de-meaned price values along with their priciple components.\n"
   ]
  },
  {
   "cell_type": "code",
   "execution_count": 7,
   "id": "04697111",
   "metadata": {},
   "outputs": [
    {
     "ename": "NameError",
     "evalue": "name 'factors' is not defined",
     "output_type": "error",
     "traceback": [
      "\u001b[1;31m---------------------------------------------------------------------------\u001b[0m",
      "\u001b[1;31mNameError\u001b[0m                                 Traceback (most recent call last)",
      "\u001b[1;32m<ipython-input-7-d0d9edc9d0f2>\u001b[0m in \u001b[0;36m<module>\u001b[1;34m\u001b[0m\n\u001b[0;32m      1\u001b[0m \u001b[1;31m# Correlations between factors\u001b[0m\u001b[1;33m\u001b[0m\u001b[1;33m\u001b[0m\u001b[1;33m\u001b[0m\u001b[0m\n\u001b[1;32m----> 2\u001b[1;33m \u001b[0mplt\u001b[0m\u001b[1;33m.\u001b[0m\u001b[0mplot\u001b[0m\u001b[1;33m(\u001b[0m\u001b[0mfactors\u001b[0m\u001b[1;33m[\u001b[0m\u001b[1;36m0\u001b[0m\u001b[1;33m]\u001b[0m\u001b[1;33m,\u001b[0m\u001b[0mR\u001b[0m\u001b[1;33m[\u001b[0m\u001b[1;36m0\u001b[0m\u001b[1;33m,\u001b[0m\u001b[1;33m:\u001b[0m\u001b[1;33m]\u001b[0m\u001b[1;33m,\u001b[0m\u001b[1;34m'bo'\u001b[0m\u001b[1;33m,\u001b[0m\u001b[0mlabel\u001b[0m\u001b[1;33m=\u001b[0m\u001b[1;34m'Price 1, princomp 0'\u001b[0m\u001b[1;33m)\u001b[0m\u001b[1;33m\u001b[0m\u001b[1;33m\u001b[0m\u001b[0m\n\u001b[0m\u001b[0;32m      3\u001b[0m \u001b[0mplt\u001b[0m\u001b[1;33m.\u001b[0m\u001b[0mplot\u001b[0m\u001b[1;33m(\u001b[0m\u001b[0mfactors\u001b[0m\u001b[1;33m[\u001b[0m\u001b[1;36m1\u001b[0m\u001b[1;33m]\u001b[0m\u001b[1;33m,\u001b[0m\u001b[0mR\u001b[0m\u001b[1;33m[\u001b[0m\u001b[1;36m1\u001b[0m\u001b[1;33m,\u001b[0m\u001b[1;33m:\u001b[0m\u001b[1;33m]\u001b[0m\u001b[1;33m,\u001b[0m\u001b[1;34m'ro'\u001b[0m\u001b[1;33m,\u001b[0m\u001b[0mlabel\u001b[0m\u001b[1;33m=\u001b[0m\u001b[1;34m'Price 2, princomp 1'\u001b[0m\u001b[1;33m)\u001b[0m\u001b[1;33m\u001b[0m\u001b[1;33m\u001b[0m\u001b[0m\n\u001b[0;32m      4\u001b[0m \u001b[0mplt\u001b[0m\u001b[1;33m.\u001b[0m\u001b[0mplot\u001b[0m\u001b[1;33m(\u001b[0m\u001b[0mfactors\u001b[0m\u001b[1;33m[\u001b[0m\u001b[1;36m0\u001b[0m\u001b[1;33m]\u001b[0m\u001b[1;33m,\u001b[0m\u001b[0mR\u001b[0m\u001b[1;33m[\u001b[0m\u001b[1;36m1\u001b[0m\u001b[1;33m,\u001b[0m\u001b[1;33m:\u001b[0m\u001b[1;33m]\u001b[0m\u001b[1;33m,\u001b[0m\u001b[1;34m'go'\u001b[0m\u001b[1;33m,\u001b[0m\u001b[0mlabel\u001b[0m\u001b[1;33m=\u001b[0m\u001b[1;34m'Price 2, princomp 0'\u001b[0m\u001b[1;33m)\u001b[0m\u001b[1;33m\u001b[0m\u001b[1;33m\u001b[0m\u001b[0m\n\u001b[0;32m      5\u001b[0m \u001b[0mplt\u001b[0m\u001b[1;33m.\u001b[0m\u001b[0mplot\u001b[0m\u001b[1;33m(\u001b[0m\u001b[0mfactors\u001b[0m\u001b[1;33m[\u001b[0m\u001b[1;36m1\u001b[0m\u001b[1;33m]\u001b[0m\u001b[1;33m,\u001b[0m\u001b[0mR\u001b[0m\u001b[1;33m[\u001b[0m\u001b[1;36m0\u001b[0m\u001b[1;33m,\u001b[0m\u001b[1;33m:\u001b[0m\u001b[1;33m]\u001b[0m\u001b[1;33m,\u001b[0m\u001b[1;34m'ko'\u001b[0m\u001b[1;33m,\u001b[0m\u001b[0mlabel\u001b[0m\u001b[1;33m=\u001b[0m\u001b[1;34m'Price 1, princomp 1'\u001b[0m\u001b[1;33m)\u001b[0m\u001b[1;33m\u001b[0m\u001b[1;33m\u001b[0m\u001b[0m\n",
      "\u001b[1;31mNameError\u001b[0m: name 'factors' is not defined"
     ]
    }
   ],
   "source": [
    "# Correlations between factors\n",
    "plt.plot(factors[0],R[0,:],'bo',label='Price 1, princomp 0')\n",
    "plt.plot(factors[1],R[1,:],'ro',label='Price 2, princomp 1')\n",
    "plt.plot(factors[0],R[1,:],'go',label='Price 2, princomp 0')\n",
    "plt.plot(factors[1],R[0,:],'ko',label='Price 1, princomp 1')\n",
    "plt.axis('equal')\n",
    "plt.legend();"
   ]
  },
  {
   "cell_type": "code",
   "execution_count": null,
   "id": "9502bb9a",
   "metadata": {},
   "outputs": [],
   "source": [
    "for the two-dimensional case we get exactly two principal components. With the priciple components we can now calculate our abstract factors:\n",
    "# Calculating the factor values from the eigenvector\n",
    "factors = np.dot(EV.T,R)"
   ]
  },
  {
   "cell_type": "code",
   "execution_count": null,
   "id": "eba216b7",
   "metadata": {},
   "outputs": [],
   "source": [
    "# Correlations between factors\n",
    "plt.plot(factors[0],R[0,:],'bo',label='Price 1, princomp 0')\n",
    "plt.plot(factors[1],R[1,:],'ro',label='Price 2, princomp 1')\n",
    "plt.plot(factors[0],R[1,:],'go',label='Price 2, princomp 0')\n",
    "plt.plot(factors[1],R[0,:],'ko',label='Price 1, princomp 1')\n",
    "plt.axis('equal')\n",
    "plt.legend();\n",
    "#The plot below shows how well our factors are correlated with x and y.\n",
    "#Note that for each return curve we have two factors. We can see that component 1 with an eigenvalue of 84.46 has a strong correlation with x and y, component \n",
    "#0 with an eigenvalue of only 0.18 does not."
   ]
  },
  {
   "cell_type": "markdown",
   "id": "376e641b",
   "metadata": {},
   "source": [
    "PCA Pairs Trade\n",
    "The use of PCA for pairs trading and subsequent generalisation of the technique to large portfolios.\n",
    "Produce pair of cointegrated price series.\n",
    "Build a backtest.\n",
    "Analyse the results.\n",
    "\n",
    "\n",
    "\n",
    "\n",
    "\n",
    "\n",
    "First we create an algorithm for \"drunk and dog\" cointegration. Here,\n",
    "\n",
    "T are the starting values\n",
    "Sigma are the standard deviations of each path.\n",
    "c is a variable that determines how strongly both returns are connected.\n",
    "if c[0] = 0 and c[1] = 0 -> both are random walks (drunk does not own dog).\n",
    "if one c is zero and the other non-zero there is a one way causality (drunk owns dog).\n",
    "if both c are non-zero there is two-way causality (dog sometimes pulls drunk)."
   ]
  },
  {
   "cell_type": "code",
   "execution_count": null,
   "id": "45bd2e4c",
   "metadata": {},
   "outputs": [],
   "source": [
    "def make_coint_0(N,T0=[0,0],sigma=[1,1],c=[0.1,0.1]):\n",
    "    '''\n",
    "    Algorithm from:\n",
    "    https://www.researchgate.net/publication/254330798_A_Drunk_and_Her_Dog_An_Illustration_of_Cointegration_and_Error_Correction\n",
    "    '''\n",
    "    X = [0]\n",
    "    Y = [0]\n",
    "    for i in range(N):\n",
    "        rx = np.random.randn()*sigma[0] - c[0]*(X[-1] - Y[-1])\n",
    "        ry = np.random.randn()*sigma[1] + c[1]*(X[-1] - Y[-1])\n",
    "        X.append(X[-1]+rx)\n",
    "        Y.append(Y[-1]+ry)\n",
    "    return np.array(X)+T0[0],np.array(Y)+T0[1]"
   ]
  },
  {
   "cell_type": "code",
   "execution_count": null,
   "id": "7b09852f",
   "metadata": {},
   "outputs": [],
   "source": [
    "\n",
    "np.random.seed(452)\n",
    "X,Y = make_coint_0(200,T0=[50,50],c=[0.1,0.1])\n",
    "plt.plot(X,'r-',Y,'b-');"
   ]
  },
  {
   "cell_type": "code",
   "execution_count": null,
   "id": "340bbe7e",
   "metadata": {},
   "outputs": [],
   "source": [
    "\n",
    "crit = coint(X,Y)\n",
    "print('Critical Values:',crit[2])\n",
    "print('T-statistic:',crit[0])\n",
    "print('P-value:',crit[1])"
   ]
  },
  {
   "cell_type": "markdown",
   "id": "0c543d5f",
   "metadata": {},
   "source": []
  },
  {
   "cell_type": "code",
   "execution_count": null,
   "id": "fb86ec70",
   "metadata": {},
   "outputs": [],
   "source": [
    "Application of PCA to pairs trading:\n",
    "Use the sklearn PCA package to generate components.\n",
    "Linear regression with the price data.\n",
    "Z-score the residual to normalise for varying price levels and volatility.\n",
    "Trade when residual sufficiently deviates from mean.\n",
    "Use of log prices can help to mitigate large price swings (e.g. in penny stocks)\n",
    "Below the code for the PCA pairs trade:"
   ]
  },
  {
   "cell_type": "code",
   "execution_count": null,
   "id": "c63c4283",
   "metadata": {},
   "outputs": [],
   "source": [
    "def Zscore(X):\n",
    "    return np.array((X - np.mean(X)) / np.std(X))\n",
    "\n",
    "def run_pca(pr,components=1,log_prices=True):\n",
    "    \n",
    "    # Instanciate PCA \n",
    "    pca = PCA(n_components=components)\n",
    "    px = pr.T-np.mean(pr.T)\n",
    "    \n",
    "    if log_prices:\n",
    "        \n",
    "        # Calculate the priciple components using log prices\n",
    "        comps = pca.fit(np.log(pr.T)).components_.T\n",
    "        \n",
    "        # Create the factors from the pricinple components\n",
    "        factors = sm.add_constant(pr.T.dot(comps))\n",
    "        \n",
    "    else:\n",
    "        \n",
    "        # Calculate the N priciple components using normal prices\n",
    "        comps = pca.fit(px).components_.T\n",
    "        \n",
    "         # Create the factors from the pricinple components\n",
    "        factors = sm.add_constant(px.dot(comps))  \n",
    "        \n",
    "\n",
    "    \n",
    "    # Regress each factor with the actual underlying prices\n",
    "    mm = [sm.OLS(s.T, factors).fit() for s in pr]\n",
    "    \n",
    "    # Calculate the residuals\n",
    "    resids = list(map(lambda x: x.resid, mm))\n",
    "    \n",
    "    return resids, factors"
   ]
  },
  {
   "cell_type": "code",
   "execution_count": null,
   "id": "198131fd",
   "metadata": {},
   "outputs": [],
   "source": [
    "#Running the PCA we can now see the factors with equal values of opposite sign.\n",
    "Same as in \"regular\" pairs trade where opposite sign is expressed by long/short.\n",
    "PCA gives reversible results when X and Y are switched, linear regression does not.\n"
   ]
  },
  {
   "cell_type": "code",
   "execution_count": null,
   "id": "554db06c",
   "metadata": {},
   "outputs": [],
   "source": [
    "# Create input array from cointegrated price series\n",
    "R = np.array([X,Y,X])\n",
    "\n",
    "# Run the PCA calculation\n",
    "residuals, factors = run_pca(R,log_prices=True)\n",
    "\n",
    "# Plot the residuals\n",
    "plt.plot(residuals[0],label='resid X')\n",
    "plt.plot(residuals[1],label='resid Y')\n",
    "plt.xlabel('time')\n",
    "plt.ylabel('residuals')\n",
    "plt.legend()\n",
    "plt.grid()"
   ]
  },
  {
   "cell_type": "code",
   "execution_count": null,
   "id": "449d45d8",
   "metadata": {},
   "outputs": [],
   "source": [
    "As a side-node, observe that linear regression is not reversible.\n",
    "\n",
    "Residuals are calculated as distances to fitting line along to y-axis.\n",
    "In PCA residuals are calculated orthogonal to principal component."
   ]
  },
  {
   "cell_type": "code",
   "execution_count": null,
   "id": "bd7b1cdb",
   "metadata": {},
   "outputs": [],
   "source": [
    "\n",
    "m = np.polyfit(X,Y,1)[0]\n",
    "m_rev = np.polyfit(Y,X,1)[0]\n",
    "print('Slope of regression:',m)\n",
    "print('Inverse slope of reverse regression:',1/m_rev)"
   ]
  },
  {
   "cell_type": "markdown",
   "id": "13fff487",
   "metadata": {},
   "source": [
    "\n",
    "Pairs-Trade Backtest\n",
    "Sequentially step through time and instruments.\n",
    "Calculate if z-score of residuals is large enough to trade.\n",
    "If in trade, see if residuals have mean reverted enough to exit.\n",
    "Calculate the pnl."
   ]
  },
  {
   "cell_type": "code",
   "execution_count": null,
   "id": "0421be51",
   "metadata": {},
   "outputs": [],
   "source": [
    "inpos = np.zeros(R.shape[0]) # side: long=+1; short=-1\n",
    "pnl = [0] # PnL vector\n",
    "bw = 2 # z-score threshold (bandwidth)\n",
    "op = {} # dict of entry prices\n",
    "\n",
    "# loop through time steps\n",
    "for i in range(len(residuals[0])):\n",
    "    p = 0 # initialise pnl-calc for a particular time step\n",
    "    \n",
    "    # loop through instruments\n",
    "    for inst in range(R.shape[0]):\n",
    "        \n",
    "        # calculate the z-score of residuals\n",
    "        zs = Zscore(residuals[inst])[i]\n",
    "        \n",
    "        # Entry condition: z-score above bandwith and no position on\n",
    "        if np.abs(zs)>bw and inpos[inst] == 0:\n",
    "            op[inst] = R[inst,i] # record the open price\n",
    "            inpos[inst] = zs  # tell algo that we have a position\n",
    "            \n",
    "        # Exit condition: z-score has crossed zero and position on\n",
    "        elif zs*np.sign(inpos[inst])<0:\n",
    "            \n",
    "            # Calculate pnl as (exit-entry)*side\n",
    "            p+=((-R[inst,i]+op[inst])*np.sign(inpos[inst]))\n",
    "            inpos[inst] = 0 # set side to zero\n",
    "    \n",
    "    # append the new pnl to vector\n",
    "    pnl.append(p)\n",
    "    \n",
    "# Plot the results of the backtest\n",
    "plt.plot(np.cumsum(pnl),'-')\n",
    "plt.xlabel('time')\n",
    "plt.ylabel('realised PnL')\n",
    "plt.show()"
   ]
  },
  {
   "cell_type": "markdown",
   "id": "21abe1b1",
   "metadata": {},
   "source": [
    "Simulate sector cointegration\n",
    "Simulated time series provide understandable results.\n",
    "Stocks within a sector are often cointegrated.\n",
    "Maths of \"Drunk and her dog\" generalisation shown below:\n",
    "$$\\begin{align}\n",
    "c_{ij} = \\Bigg\\{ \n",
    "\\begin{split}\n",
    "-a_{ij} \\quad for \\quad i \\leq j \\\\ \n",
    "a_{ij} \\quad for \\quad i \\geq j \\\\ \n",
    "-a_{ij} \\quad for \\quad i = j\n",
    "\\end{split}\n",
    "\\end{align}$$$$\\begin{align}\n",
    "X_{t}^{(i)}-X_{t-1}^{(i)} = \\sum_{j} c_{ij} X_{t-1}^{(j)} + \\epsilon_{i} \\quad with \\quad a_{ij} \\geq 0\n",
    "\\end{align}$$\n",
    "X denotes the time series, c is the causality matrix.\n",
    "a are the positive elements of the causality matrix."
   ]
  },
  {
   "cell_type": "code",
   "execution_count": null,
   "id": "855fdb69",
   "metadata": {},
   "outputs": [],
   "source": [
    "def make_coint_1(N,steps,a=0.1):\n",
    "    X = [np.zeros(N)]\n",
    "    \n",
    "    # Create the causality matrix\n",
    "    c = (np.tril(np.ones(N))-np.triu(np.ones(N))-np.diag(np.ones(N),0))*a #c = np.random.rand(N,N)*0.1\n",
    "\n",
    "    # loop through time steps\n",
    "    for i in range(steps):\n",
    "        \n",
    "        # Calculate the returns for each time series\n",
    "        rx = (np.sum(c*X[-1],axis=1)+np.random.randn(N))\n",
    "        \n",
    "        # Add the new return to the last price of the time series\n",
    "        X.append(X[-1]+rx)\n",
    "        \n",
    "    # return array of all series\n",
    "    return np.array(X).T"
   ]
  },
  {
   "cell_type": "code",
   "execution_count": null,
   "id": "4186b3b0",
   "metadata": {},
   "outputs": [],
   "source": [
    "np.random.seed(21)\n",
    "N = 3\n",
    "a1 = 0.1 # general case\n",
    "a2=[[0.02,0.1],[0.1,0.02]] # for N = 2\n",
    "a3=[[0.06,0.04,0.08],[0.06,0.06,0.04],[0.06,0.08,0.04]] # for N = 3\n",
    "X1 = make_coint_1(N,200,a=a1).T\n",
    "\n",
    "for i in range(N):\n",
    "    plt.plot(X1[:,i])"
   ]
  },
  {
   "cell_type": "code",
   "execution_count": null,
   "id": "bc4163f3",
   "metadata": {},
   "outputs": [],
   "source": [
    "print('Critical values:',coint(X1.T[0],X1.T[1])[2])\n",
    "for i in range(X1.T.shape[0]):\n",
    "    for k in range(i,X1.T.shape[0]):\n",
    "        if not i==k:\n",
    "            print('t-stats for coint of series %s and %s:'%(i,k), coint(X1.T[i],X1.T[k])[0])"
   ]
  },
  {
   "cell_type": "markdown",
   "id": "56035217",
   "metadata": {},
   "source": [
    "\n",
    "PCA Portfolio Trading\n",
    "Application of strategy to larger portfolio.\n",
    "Careful with the causality coefficients as large numbers of strong cross-dependencies can create positive feedback loops between the series.\n",
    "Larger N - higher to probability of the feedack loops for a given alpha."
   ]
  },
  {
   "cell_type": "code",
   "execution_count": null,
   "id": "b2873a95",
   "metadata": {},
   "outputs": [],
   "source": [
    "\n",
    "#np.random.seed(231)\n",
    "N = 10\n",
    "alpha = 0.06\n",
    "X2 = make_coint_1(N,300,a=np.random.rand(N,N)*alpha) + 50"
   ]
  },
  {
   "cell_type": "code",
   "execution_count": null,
   "id": "fe84e73b",
   "metadata": {},
   "outputs": [],
   "source": [
    "for i in X2:\n",
    "    plt.plot(i)"
   ]
  },
  {
   "cell_type": "markdown",
   "id": "46dbe754",
   "metadata": {},
   "source": [
    "\n",
    "Cumulative explained variance\n",
    "3 principle components explain 75% of variance\n",
    "Too many components lead to very high correlation and very small PnL/trade\n",
    "Enough PnL/trade to overcome trading costs"
   ]
  },
  {
   "cell_type": "code",
   "execution_count": null,
   "id": "10172b39",
   "metadata": {},
   "outputs": [],
   "source": [
    "pca = PCA(n_components=10)\n",
    "pca.fit(np.log(X2))\n",
    "\n",
    "# Plot cumulative explained variance\n",
    "plt.plot(np.cumsum(pca.explained_variance_)/np.sum(pca.explained_variance_),'-o')\n",
    "plt.grid()\n",
    "plt.xlabel('Component')\n",
    "plt.ylabel('Explained Variance')"
   ]
  },
  {
   "cell_type": "code",
   "execution_count": 8,
   "id": "657a98ec",
   "metadata": {},
   "outputs": [
    {
     "ename": "NameError",
     "evalue": "name 'X2' is not defined",
     "output_type": "error",
     "traceback": [
      "\u001b[1;31m---------------------------------------------------------------------------\u001b[0m",
      "\u001b[1;31mNameError\u001b[0m                                 Traceback (most recent call last)",
      "\u001b[1;32m<ipython-input-8-d7591fadc174>\u001b[0m in \u001b[0;36m<module>\u001b[1;34m\u001b[0m\n\u001b[0;32m      1\u001b[0m \u001b[1;31m# Cointegration test:\u001b[0m\u001b[1;33m\u001b[0m\u001b[1;33m\u001b[0m\u001b[1;33m\u001b[0m\u001b[0m\n\u001b[0;32m      2\u001b[0m \u001b[0mcoints\u001b[0m \u001b[1;33m=\u001b[0m \u001b[1;33m[\u001b[0m\u001b[1;33m]\u001b[0m\u001b[1;33m\u001b[0m\u001b[1;33m\u001b[0m\u001b[0m\n\u001b[1;32m----> 3\u001b[1;33m \u001b[0mprint\u001b[0m\u001b[1;33m(\u001b[0m\u001b[1;34m'Critical values:'\u001b[0m\u001b[1;33m,\u001b[0m\u001b[0mcoint\u001b[0m\u001b[1;33m(\u001b[0m\u001b[0mX2\u001b[0m\u001b[1;33m[\u001b[0m\u001b[1;36m0\u001b[0m\u001b[1;33m]\u001b[0m\u001b[1;33m,\u001b[0m\u001b[0mX2\u001b[0m\u001b[1;33m[\u001b[0m\u001b[1;36m1\u001b[0m\u001b[1;33m]\u001b[0m\u001b[1;33m)\u001b[0m\u001b[1;33m[\u001b[0m\u001b[1;36m2\u001b[0m\u001b[1;33m]\u001b[0m\u001b[1;33m)\u001b[0m\u001b[1;33m\u001b[0m\u001b[1;33m\u001b[0m\u001b[0m\n\u001b[0m\u001b[0;32m      4\u001b[0m \u001b[1;32mfor\u001b[0m \u001b[0mi\u001b[0m \u001b[1;32min\u001b[0m \u001b[0mrange\u001b[0m\u001b[1;33m(\u001b[0m\u001b[0mX2\u001b[0m\u001b[1;33m.\u001b[0m\u001b[0mshape\u001b[0m\u001b[1;33m[\u001b[0m\u001b[1;36m0\u001b[0m\u001b[1;33m]\u001b[0m\u001b[1;33m)\u001b[0m\u001b[1;33m:\u001b[0m\u001b[1;33m\u001b[0m\u001b[1;33m\u001b[0m\u001b[0m\n\u001b[0;32m      5\u001b[0m     \u001b[1;32mfor\u001b[0m \u001b[0mk\u001b[0m \u001b[1;32min\u001b[0m \u001b[0mrange\u001b[0m\u001b[1;33m(\u001b[0m\u001b[0mi\u001b[0m\u001b[1;33m,\u001b[0m\u001b[0mX2\u001b[0m\u001b[1;33m.\u001b[0m\u001b[0mshape\u001b[0m\u001b[1;33m[\u001b[0m\u001b[1;36m0\u001b[0m\u001b[1;33m]\u001b[0m\u001b[1;33m)\u001b[0m\u001b[1;33m:\u001b[0m\u001b[1;33m\u001b[0m\u001b[1;33m\u001b[0m\u001b[0m\n",
      "\u001b[1;31mNameError\u001b[0m: name 'X2' is not defined"
     ]
    }
   ],
   "source": [
    "\n",
    "# Cointegration test:\n",
    "coints = []\n",
    "print('Critical values:',coint(X2[0],X2[1])[2])\n",
    "for i in range(X2.shape[0]):\n",
    "    for k in range(i,X2.shape[0]):\n",
    "        if not i==k:\n",
    "            coints.append(coint(X2[i],X2[k])[0])\n",
    "            \n",
    "print('Average coint t-stats:',np.mean(coints))"
   ]
  },
  {
   "cell_type": "markdown",
   "id": "5eea3fd7",
   "metadata": {},
   "source": [
    "Sector-portfolio backtest\n",
    "There are many strategies we can deploy based on our techniques such as:\n",
    "\n",
    "sort the z-scores of our factors and go long the lowest and short the N assets with the highest z-scores.\n",
    "scale the position size of each instrument according to z-score.\n",
    "only rebalance portfolio when sum of z-scores exceeds a threshold.\n",
    "All of them have their uses and they need to be tested on a case-by-case basis. Here, we choose the first example as shown below. This time we eliminate the forward-looking bias by recalculating the residuals at every time step."
   ]
  },
  {
   "cell_type": "code",
   "execution_count": 9,
   "id": "60823498",
   "metadata": {},
   "outputs": [
    {
     "ename": "FileNotFoundError",
     "evalue": "[Errno 2] No such file or directory: 'marketdata.pick'",
     "output_type": "error",
     "traceback": [
      "\u001b[1;31m---------------------------------------------------------------------------\u001b[0m",
      "\u001b[1;31mFileNotFoundError\u001b[0m                         Traceback (most recent call last)",
      "\u001b[1;32m<ipython-input-9-dd4b2e801a80>\u001b[0m in \u001b[0;36m<module>\u001b[1;34m\u001b[0m\n\u001b[1;32m----> 1\u001b[1;33m \u001b[0mmdata\u001b[0m \u001b[1;33m=\u001b[0m \u001b[0mpickle\u001b[0m\u001b[1;33m.\u001b[0m\u001b[0mload\u001b[0m\u001b[1;33m(\u001b[0m\u001b[0mopen\u001b[0m\u001b[1;33m(\u001b[0m\u001b[1;34m'marketdata.pick'\u001b[0m\u001b[1;33m,\u001b[0m\u001b[1;34m'rb'\u001b[0m\u001b[1;33m)\u001b[0m\u001b[1;33m)\u001b[0m\u001b[1;33m\u001b[0m\u001b[1;33m\u001b[0m\u001b[0m\n\u001b[0m",
      "\u001b[1;31mFileNotFoundError\u001b[0m: [Errno 2] No such file or directory: 'marketdata.pick'"
     ]
    }
   ],
   "source": [
    "mdata = pickle.load(open('marketdata.pick','rb'))"
   ]
  },
  {
   "cell_type": "code",
   "execution_count": 10,
   "id": "85cc0977",
   "metadata": {},
   "outputs": [
    {
     "ename": "NameError",
     "evalue": "name 'mdata' is not defined",
     "output_type": "error",
     "traceback": [
      "\u001b[1;31m---------------------------------------------------------------------------\u001b[0m",
      "\u001b[1;31mNameError\u001b[0m                                 Traceback (most recent call last)",
      "\u001b[1;32m<ipython-input-10-abaef0184109>\u001b[0m in \u001b[0;36m<module>\u001b[1;34m\u001b[0m\n\u001b[1;32m----> 1\u001b[1;33m \u001b[0mpr\u001b[0m \u001b[1;33m=\u001b[0m \u001b[0mnp\u001b[0m\u001b[1;33m.\u001b[0m\u001b[0marray\u001b[0m\u001b[1;33m(\u001b[0m\u001b[0mmdata\u001b[0m\u001b[1;33m)\u001b[0m\u001b[1;33m.\u001b[0m\u001b[0mT\u001b[0m\u001b[1;31m#[:12,:]\u001b[0m\u001b[1;33m\u001b[0m\u001b[1;33m\u001b[0m\u001b[0m\n\u001b[0m\u001b[0;32m      2\u001b[0m \u001b[0mmax_pos\u001b[0m\u001b[1;33m=\u001b[0m\u001b[1;36m3\u001b[0m\u001b[1;33m\u001b[0m\u001b[1;33m\u001b[0m\u001b[0m\n\u001b[0;32m      3\u001b[0m \u001b[0mnum_factors\u001b[0m\u001b[1;33m=\u001b[0m\u001b[1;36m3\u001b[0m\u001b[1;33m\u001b[0m\u001b[1;33m\u001b[0m\u001b[0m\n\u001b[0;32m      4\u001b[0m \u001b[0minitial_cash\u001b[0m\u001b[1;33m=\u001b[0m\u001b[1;36m1e6\u001b[0m\u001b[1;33m\u001b[0m\u001b[1;33m\u001b[0m\u001b[0m\n\u001b[0;32m      5\u001b[0m \u001b[1;33m\u001b[0m\u001b[0m\n",
      "\u001b[1;31mNameError\u001b[0m: name 'mdata' is not defined"
     ]
    }
   ],
   "source": [
    "pr = np.array(mdata).T#[:12,:]\n",
    "max_pos=3\n",
    "num_factors=3\n",
    "initial_cash=1e6\n",
    "\n",
    "entry = {} # create a vector of entry prices\n",
    "pnls = [] # create a pnl vector\n",
    "\n",
    "# Exit if we specified too large long/short position size\n",
    "if max_pos > pr.shape[0]/2:\n",
    "    print('max_pos too large!')\n",
    "    adfadsf\n",
    "\n",
    "# loop through the prices\n",
    "for i,pri in enumerate(pr.T):\n",
    "\n",
    "    # Make sure you have enough data points for PCA\n",
    "    if i < 50: continue\n",
    "\n",
    "    # Run the PCA, only on the past prices\n",
    "    resids, factors = run_pca(pr.T[max([0,i-400]):i],num_factors,log_prices=False)\n",
    "    zs = {}\n",
    "\n",
    "    # Calculate the z-scores for each instrument. \n",
    "    for inst in range(len(pri)):\n",
    "        try: zs[inst] = Zscore(resids[inst])[-1]\n",
    "        except: pass\n",
    "\n",
    "    pnl = 0\n",
    "    # Calculate the Pnl for each position over the prevoius period\n",
    "    for j,idx in enumerate(entry):\n",
    "\n",
    "        # Calculate the position size\n",
    "        # The sign of the position depends on the sign of the entry price\n",
    "        pos = np.round((initial_cash/len(pri))/entry[idx])\n",
    "\n",
    "        # Add up the pnls for all positions for the last period\n",
    "        # We neutralize the sign of the entry price and let it \n",
    "        # come in through the position.\n",
    "        pnl += (pri[idx]-np.abs(entry[idx]))*pos\n",
    "    pnls.append(pnl)\n",
    "\n",
    "    # Reset the portfolio\n",
    "    entry = {}\n",
    "\n",
    "    # Find the new instruments to be traded based on their z-scores\n",
    "    idx_long = (np.argsort([zs[j] for j in zs])[:max_pos])\n",
    "    idx_short = (np.argsort([zs[j] for j in zs])[-max_pos:])\n",
    "\n",
    "    # Add them to the entry list\n",
    "    # The entry gets a positive or negative sign depending on the side of the trade\n",
    "    for idx in idx_long:\n",
    "        entry[idx] = pri[idx]\n",
    "    for idx in idx_short:\n",
    "        entry[idx] = -pri[idx]\n",
    "\n",
    "    print(i,sum(pnls))"
   ]
  },
  {
   "cell_type": "code",
   "execution_count": 11,
   "id": "24278936",
   "metadata": {},
   "outputs": [
    {
     "ename": "FileNotFoundError",
     "evalue": "[Errno 2] No such file or directory: 'pnls.pick'",
     "output_type": "error",
     "traceback": [
      "\u001b[1;31m---------------------------------------------------------------------------\u001b[0m",
      "\u001b[1;31mFileNotFoundError\u001b[0m                         Traceback (most recent call last)",
      "\u001b[1;32m<ipython-input-11-2e2e6a4cc6e2>\u001b[0m in \u001b[0;36m<module>\u001b[1;34m\u001b[0m\n\u001b[1;32m----> 1\u001b[1;33m \u001b[0mplt\u001b[0m\u001b[1;33m.\u001b[0m\u001b[0mplot\u001b[0m\u001b[1;33m(\u001b[0m\u001b[0mnp\u001b[0m\u001b[1;33m.\u001b[0m\u001b[0mcumsum\u001b[0m\u001b[1;33m(\u001b[0m\u001b[0mpickle\u001b[0m\u001b[1;33m.\u001b[0m\u001b[0mload\u001b[0m\u001b[1;33m(\u001b[0m\u001b[0mopen\u001b[0m\u001b[1;33m(\u001b[0m\u001b[1;34m'pnls.pick'\u001b[0m\u001b[1;33m,\u001b[0m\u001b[1;34m'rb'\u001b[0m\u001b[1;33m)\u001b[0m\u001b[1;33m)\u001b[0m\u001b[1;33m)\u001b[0m\u001b[1;33m)\u001b[0m\u001b[1;33m\u001b[0m\u001b[1;33m\u001b[0m\u001b[0m\n\u001b[0m",
      "\u001b[1;31mFileNotFoundError\u001b[0m: [Errno 2] No such file or directory: 'pnls.pick'"
     ]
    }
   ],
   "source": [
    "plt.plot(np.cumsum(pickle.load(open('pnls.pick','rb'))))"
   ]
  },
  {
   "cell_type": "code",
   "execution_count": null,
   "id": "32a4ae20",
   "metadata": {},
   "outputs": [],
   "source": []
  },
  {
   "cell_type": "code",
   "execution_count": null,
   "id": "bc873e2c",
   "metadata": {},
   "outputs": [],
   "source": []
  }
 ],
 "metadata": {
  "kernelspec": {
   "display_name": "Python 3",
   "language": "python",
   "name": "python3"
  },
  "language_info": {
   "codemirror_mode": {
    "name": "ipython",
    "version": 3
   },
   "file_extension": ".py",
   "mimetype": "text/x-python",
   "name": "python",
   "nbconvert_exporter": "python",
   "pygments_lexer": "ipython3",
   "version": "3.8.8"
  }
 },
 "nbformat": 4,
 "nbformat_minor": 5
}
